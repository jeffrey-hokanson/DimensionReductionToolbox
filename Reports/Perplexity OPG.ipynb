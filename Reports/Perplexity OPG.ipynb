{
 "cells": [
  {
   "cell_type": "code",
   "execution_count": null,
   "metadata": {},
   "outputs": [],
   "source": [
    "import numpy as np\n",
    "import psdr\n",
    "from scipy.linalg import orth\n",
    "from psdr.opg import opg_grads\n",
    "from psdr.perplexity_opg import perplexity_opg_grads"
   ]
  },
  {
   "cell_type": "code",
   "execution_count": null,
   "metadata": {},
   "outputs": [],
   "source": [
    "import matplotlib.pyplot as plt\n",
    "%matplotlib inline\n",
    "%config InlineBackend.figure_format = 'retina'"
   ]
  },
  {
   "cell_type": "code",
   "execution_count": null,
   "metadata": {},
   "outputs": [],
   "source": [
    "# Build a test function\n",
    "np.random.seed(0)\n",
    "m = 5\n",
    "Q = orth(np.random.randn(m,m))\n",
    "lam = np.zeros(m)\n",
    "lam = np.linspace(1,10, m)**(-2)\n",
    "A = Q @ np.diag(lam) @ Q.T\n",
    "f =  lambda x: 0.5 * x.T @ A @ x\n",
    "grad = lambda x: A @ x\n",
    "fun = psdr.Function(f, psdr.BoxDomain(-np.ones(m), np.ones(m)), grads = [grad])"
   ]
  },
  {
   "cell_type": "markdown",
   "metadata": {},
   "source": [
    "## Example: Random Data"
   ]
  },
  {
   "cell_type": "code",
   "execution_count": null,
   "metadata": {},
   "outputs": [],
   "source": [
    "X = fun.domain.sample(2000)\n",
    "fX = fun(X)\n",
    "grads_true = fun.grad(X)\n",
    "\n",
    "print(\"OPG\")\n",
    "%time grads1 = opg_grads(X, fX)\n",
    "print(\"Perplexity OPG\")\n",
    "%time grads2 = perplexity_opg_grads(X, fX)\n",
    "err1 = np.max(np.abs(grads1 - grads_true), axis = 1)\n",
    "err2 = np.max(np.abs(grads2 - grads_true), axis = 1)\n",
    "\n",
    "fig, ax = plt.subplots()\n",
    "xx = np.linspace(0, max(np.max(err1), np.max(err2)), 50)\n",
    "ax.hist(err1, xx, alpha = 0.5, label = 'opg')\n",
    "ax.hist(err2, xx, alpha = 0.5, label = 'popg');\n",
    "ax.set_xlabel('error, inf-norm')\n",
    "ax.set_ylabel('density')\n",
    "ax.legend();"
   ]
  },
  {
   "cell_type": "markdown",
   "metadata": {},
   "source": [
    "## Example: Mixed Data\n",
    "In this example, data is drawn from two distributions to reflect the challenges inherent when we have data that doesn't emerge from a simple random sample approach."
   ]
  },
  {
   "cell_type": "code",
   "execution_count": null,
   "metadata": {},
   "outputs": [],
   "source": [
    "X1 = fun.domain.sample(1000)\n",
    "X2 = 0.1*fun.domain.sample(1000)\n",
    "X = np.vstack([X1,X2])\n",
    "fX = fun(X)\n",
    "grads_true = fun.grad(X)\n",
    "\n",
    "print(\"OPG\")\n",
    "%time grads1 = opg_grads(X, fX)\n",
    "print(\"Perplexity OPG\")\n",
    "%time grads2 = perplexity_opg_grads(X, fX)\n",
    "err1 = np.max(np.abs(grads1 - grads_true), axis = 1)\n",
    "err2 = np.max(np.abs(grads2 - grads_true), axis = 1)\n",
    "\n",
    "fig, ax = plt.subplots()\n",
    "xx = np.linspace(0, max(np.max(err1), np.max(err2)), 100)\n",
    "ax.hist(err1, xx, alpha = 0.5, label = 'opg')\n",
    "ax.hist(err2, xx, alpha = 0.5, label = 'popg');\n",
    "ax.set_xlabel('error, inf-norm')\n",
    "ax.set_ylabel('density')\n",
    "ax.legend();"
   ]
  },
  {
   "cell_type": "code",
   "execution_count": null,
   "metadata": {},
   "outputs": [],
   "source": []
  }
 ],
 "metadata": {
  "kernelspec": {
   "display_name": "Python 3",
   "language": "python",
   "name": "python3"
  },
  "language_info": {
   "codemirror_mode": {
    "name": "ipython",
    "version": 3
   },
   "file_extension": ".py",
   "mimetype": "text/x-python",
   "name": "python",
   "nbconvert_exporter": "python",
   "pygments_lexer": "ipython3",
   "version": "3.7.4"
  }
 },
 "nbformat": 4,
 "nbformat_minor": 2
}
