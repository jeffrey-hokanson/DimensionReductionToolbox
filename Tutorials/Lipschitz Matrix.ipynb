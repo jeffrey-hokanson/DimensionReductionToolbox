{
 "cells": [
  {
   "cell_type": "code",
   "execution_count": 1,
   "metadata": {},
   "outputs": [],
   "source": [
    "import numpy as np\n",
    "from psdr import multivariate_lipschitz, scalar_lipschitz\n",
    "from psdr.demos import build_otl_circuit_domain, otl_circuit"
   ]
  },
  {
   "cell_type": "code",
   "execution_count": 2,
   "metadata": {},
   "outputs": [],
   "source": [
    "domain = build_otl_circuit_domain()\n",
    "f = otl_circuit"
   ]
  },
  {
   "cell_type": "code",
   "execution_count": 3,
   "metadata": {},
   "outputs": [],
   "source": [
    "# Sample function\n",
    "np.random.seed(0)\n",
    "X = domain.sample(10)\n",
    "fX, grads = f(X, return_grad = True)"
   ]
  },
  {
   "cell_type": "markdown",
   "metadata": {},
   "source": [
    "To avoid issues with poor scaling in application units, we scale and shift the range of each input $x_i$ to $[-1,1]$.  This yields the normalized samples and gradients below."
   ]
  },
  {
   "cell_type": "code",
   "execution_count": 4,
   "metadata": {},
   "outputs": [],
   "source": [
    "X_norm = domain.normalize(X)\n",
    "grads_norm = domain.normalize_grad(grads)"
   ]
  },
  {
   "cell_type": "markdown",
   "metadata": {},
   "source": [
    "Now given those samples, we construct the Lipschitz matrix"
   ]
  },
  {
   "cell_type": "code",
   "execution_count": 5,
   "metadata": {},
   "outputs": [
    {
     "name": "stdout",
     "output_type": "stream",
     "text": [
      "[[ 1.439e+00  0.000e+00  0.000e+00  0.000e+00  0.000e+00  0.000e+00]\n",
      " [-1.302e+00  1.131e+00  0.000e+00  0.000e+00  0.000e+00  0.000e+00]\n",
      " [-1.347e+00  8.854e-01  6.135e-01  0.000e+00  0.000e+00  0.000e+00]\n",
      " [ 2.007e-01 -8.236e-01 -3.832e-01  5.516e-01  0.000e+00  0.000e+00]\n",
      " [ 4.872e-01 -6.579e-01 -2.443e-01  3.714e-01  4.012e-04  0.000e+00]\n",
      " [ 6.846e-02 -3.266e-01 -7.660e-02  6.192e-02  2.668e-03  8.593e-02]]\n"
     ]
    }
   ],
   "source": [
    "Lmat = multivariate_lipschitz(X = X_norm, fX = fX, grads = grads_norm)\n",
    "np.set_printoptions(precision=3)\n",
    "print Lmat"
   ]
  },
  {
   "cell_type": "markdown",
   "metadata": {},
   "source": [
    "We can also compute the corresponding Lipschitz constant"
   ]
  },
  {
   "cell_type": "code",
   "execution_count": 6,
   "metadata": {},
   "outputs": [
    {
     "name": "stdout",
     "output_type": "stream",
     "text": [
      "2.744627524980366\n"
     ]
    }
   ],
   "source": [
    "Lscalar = scalar_lipschitz(X = X_norm, fX = fX, grads = grads_norm)\n",
    "print Lscalar"
   ]
  }
 ],
 "metadata": {
  "kernelspec": {
   "display_name": "Python 2",
   "language": "python",
   "name": "python2"
  },
  "language_info": {
   "codemirror_mode": {
    "name": "ipython",
    "version": 2
   },
   "file_extension": ".py",
   "mimetype": "text/x-python",
   "name": "python",
   "nbconvert_exporter": "python",
   "pygments_lexer": "ipython2",
   "version": "2.7.15"
  }
 },
 "nbformat": 4,
 "nbformat_minor": 2
}
