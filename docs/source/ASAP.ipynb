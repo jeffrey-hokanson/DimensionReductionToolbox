{
 "cells": [
  {
   "cell_type": "code",
   "execution_count": null,
   "metadata": {},
   "outputs": [],
   "source": [
    "%matplotlib inline\n",
    "%config InlineBackend.figure_format = 'retina'"
   ]
  },
  {
   "cell_type": "markdown",
   "metadata": {},
   "source": [
    "# Working with Precomputed Databases\n",
    "Sometimes we don't have access to a function, but are instead handed a database of simulations from which we are asked to extract insight.  In this example, we consider (Zach: please tell us about this data).  "
   ]
  },
  {
   "cell_type": "code",
   "execution_count": null,
   "metadata": {},
   "outputs": [],
   "source": [
    "import numpy as np\n",
    "import scipy.io\n",
    "import psdr"
   ]
  },
  {
   "cell_type": "markdown",
   "metadata": {},
   "source": [
    "## Importing data\n",
    "Here we use standard scipy tools to import the saved data in a `.mat` file.  We also bring in the lower and upper bounds so that we can construct the normalized domain."
   ]
  },
  {
   "cell_type": "code",
   "execution_count": null,
   "metadata": {},
   "outputs": [],
   "source": [
    "# Import ASAP saved data\n",
    "dat = scipy.io.loadmat('AS_m10_N1000_pm60pct_QOI2.mat')\n",
    "X0 = dat['X0']\n",
    "CL = dat['F'].flatten()"
   ]
  },
  {
   "cell_type": "code",
   "execution_count": null,
   "metadata": {},
   "outputs": [],
   "source": [
    "ub = dat['ub0'].flatten()\n",
    "lb = dat['lb0'].flatten()\n",
    "dom_app = psdr.BoxDomain(lb,ub)\n",
    "dom = dom_app.normalized_domain()"
   ]
  },
  {
   "cell_type": "code",
   "execution_count": null,
   "metadata": {},
   "outputs": [],
   "source": [
    "X = dom_app.normalize(X0)"
   ]
  },
  {
   "cell_type": "code",
   "execution_count": null,
   "metadata": {},
   "outputs": [],
   "source": [
    "# try Polynomial Ridge Approximation\n",
    "pra = psdr.PolynomialRidgeApproximation(degree = 2,subspace_dimension = 2)\n",
    "pra.fit(X,CL)\n",
    "ax = pra.shadow_plot(X,CL)"
   ]
  },
  {
   "cell_type": "code",
   "execution_count": null,
   "metadata": {},
   "outputs": [],
   "source": [
    "np.linalg.norm(pra(X) - CL)/np.linalg.norm(CL)"
   ]
  },
  {
   "cell_type": "code",
   "execution_count": null,
   "metadata": {},
   "outputs": [],
   "source": [
    "dom2 = dom_norm.add_constraints(A_eq = pra.U.T, b_eq = [0,0])\n",
    "dom2.sample(1)"
   ]
  },
  {
   "cell_type": "code",
   "execution_count": null,
   "metadata": {},
   "outputs": [],
   "source": []
  }
 ],
 "metadata": {
  "kernelspec": {
   "display_name": "Python 2",
   "language": "python",
   "name": "python2"
  },
  "language_info": {
   "codemirror_mode": {
    "name": "ipython",
    "version": 2
   },
   "file_extension": ".py",
   "mimetype": "text/x-python",
   "name": "python",
   "nbconvert_exporter": "python",
   "pygments_lexer": "ipython2",
   "version": "2.7.15"
  }
 },
 "nbformat": 4,
 "nbformat_minor": 2
}
